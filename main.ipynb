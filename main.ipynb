{
 "cells": [
  {
   "cell_type": "markdown",
   "metadata": {},
   "source": [
    "# Pfam protein domain classification\n",
    "\n",
    "In this notebook, I will use the Pfam dataset to classify protein domains. The dataset contains sequences of proteins and their respective Pfam labels. The Pfam database is a large collection of protein families, each represented by multiple sequence alignments and hidden Markov models (HMMs). Each family is typically defined by a curated seed alignment and a profile HMM. The database also contains additional information such as multiple sequence alignments, consensus sequences, and annotation.\n",
    "\n",
    "The dataset is available at https://www.kaggle.com/googleai/pfam-seed-random-split\n",
    "\n",
    "The dataset contains the following columns:\n",
    "\n",
    "- `sequence`: The protein sequence. The protein sequences are typically 50-1000 amino acids long. The first 10-20 amino acids are a signal peptide that can be ignored during model training. The remaining sequence is the mature protein. The protein sequence is represented as a string. The alphabet for the protein sequence is 20 amino acids (e.g., A, C, D, E, F, G, H, I, K, L, M, N, P, Q, R, S, T, V, W, Y).\n",
    "- `family_accession`: The Pfam family accession. This is a unique identifier of a Pfam family. For example, the Pfam family accession of the \"7tm_1\" family is \"PF00001\". The family accessions starting with \"PF\" followed by five digits are curated Pfam families, and the rest are automatically generated Pfam families. The manually curated Pfam families are a gold standard, but there are also high-quality automatically generated Pfam families.\n",
    "- `sequence_name`: The name of the sequence. It is not guaranteed to be unique. In fact, multiple sequences may share the same sequence name. This is because the same sequence may belong to multiple Pfam families. The sequence name is mainly for human inspection and can be ignored during model training. The same sequence name does not imply the same protein sequence. The protein sequences are unique and different.\n",
    "- `aligned_sequence`: The aligned protein sequence. It is derived from the HMM-HMM alignment between the protein sequence and the Pfam family HMM. It is a string with \"-\" to denote insertions relative to the HMM. The first 10-20 amino acids are a signal peptide that can be ignored during model training. The remaining sequence is the mature protein. The length of the aligned sequence is typically similar to the length of the protein sequence. The aligned sequence is informative for training models that rely on multiple sequence alignments.\n",
    "- `family_id`: The Pfam family ID. It is similar to the `family_accession` but provides a different naming convention. It is also a unique identifier of a Pfam family. The family IDs starting with \"CL\" followed by seven digits are curated Pfam families, and the rest are automatically generated Pfam families. The manually curated Pfam families are a gold standard, but there are also high-quality automatically generated Pfam families.\n",
    "\n",
    "The task is to predict the `family_accession` of a protein sequence."
   ]
  },
  {
   "cell_type": "code",
   "execution_count": 16,
   "metadata": {},
   "outputs": [],
   "source": [
    "import pandas as pd\n",
    "import os    \n",
    "import matplotlib.pyplot as plt"
   ]
  },
  {
   "cell_type": "code",
   "execution_count": 17,
   "metadata": {},
   "outputs": [],
   "source": [
    "DIR_PATH='data/'"
   ]
  },
  {
   "cell_type": "code",
   "execution_count": 19,
   "metadata": {},
   "outputs": [],
   "source": [
    "def read_data(sub_dir, dir=DIR_PATH):\n",
    "    data=[]\n",
    "    for file in os.listdir(dir+sub_dir):\n",
    "        data.append(pd.read_csv(dir+sub_dir+file))\n",
    "    return pd.concat(data)\n",
    "\n",
    "\n",
    "df_train = read_data('train/')\n",
    "df_test = read_data('test/')\n",
    "df_val = read_data('dev/')"
   ]
  }
 ],
 "metadata": {
  "kernelspec": {
   "display_name": "venv_global",
   "language": "python",
   "name": "env_global"
  },
  "language_info": {
   "codemirror_mode": {
    "name": "ipython",
    "version": 3
   },
   "file_extension": ".py",
   "mimetype": "text/x-python",
   "name": "python",
   "nbconvert_exporter": "python",
   "pygments_lexer": "ipython3",
   "version": "3.11.11"
  }
 },
 "nbformat": 4,
 "nbformat_minor": 2
}
