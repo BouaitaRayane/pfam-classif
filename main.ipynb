{
 "cells": [
  {
   "cell_type": "markdown",
   "metadata": {},
   "source": [
    "# Pfam protein domain classification\n",
    "\n",
    "In this notebook, I will use the Pfam dataset to classify protein domains. The dataset contains sequences of proteins and their respective Pfam labels. The Pfam database is a large collection of protein families, each represented by multiple sequence alignments and hidden Markov models (HMMs). Each family is typically defined by a curated seed alignment and a profile HMM. The database also contains additional information such as multiple sequence alignments, consensus sequences, and annotation.\n",
    "\n",
    "The dataset is available at https://www.kaggle.com/googleai/pfam-seed-random-split\n",
    "\n",
    "The dataset contains the following columns:\n",
    "\n",
    "- `sequence`: The protein sequence. The protein sequences are typically 50-1000 amino acids long. The first 10-20 amino acids are a signal peptide that can be ignored during model training. The remaining sequence is the mature protein. The protein sequence is represented as a string. The alphabet for the protein sequence is 20 amino acids (e.g., A, C, D, E, F, G, H, I, K, L, M, N, P, Q, R, S, T, V, W, Y).\n",
    "- `family_accession`: The Pfam family accession. This is a unique identifier of a Pfam family. For example, the Pfam family accession of the \"7tm_1\" family is \"PF00001\". The family accessions starting with \"PF\" followed by five digits are curated Pfam families, and the rest are automatically generated Pfam families. The manually curated Pfam families are a gold standard, but there are also high-quality automatically generated Pfam families.\n",
    "- `sequence_name`: The name of the sequence. It is not guaranteed to be unique. In fact, multiple sequences may share the same sequence name. This is because the same sequence may belong to multiple Pfam families. The sequence name is mainly for human inspection and can be ignored during model training. The same sequence name does not imply the same protein sequence. The protein sequences are unique and different.\n",
    "- `aligned_sequence`: The aligned protein sequence. It is derived from the HMM-HMM alignment between the protein sequence and the Pfam family HMM. It is a string with \"-\" to denote insertions relative to the HMM. The first 10-20 amino acids are a signal peptide that can be ignored during model training. The remaining sequence is the mature protein. The length of the aligned sequence is typically similar to the length of the protein sequence. The aligned sequence is informative for training models that rely on multiple sequence alignments.\n",
    "- `family_id`: The Pfam family ID. It is similar to the `family_accession` but provides a different naming convention. It is also a unique identifier of a Pfam family. The family IDs starting with \"CL\" followed by seven digits are curated Pfam families, and the rest are automatically generated Pfam families. The manually curated Pfam families are a gold standard, but there are also high-quality automatically generated Pfam families.\n",
    "\n",
    "The task is to predict the `family_accession` of a protein sequence."
   ]
  },
  {
   "cell_type": "code",
   "execution_count": 1,
   "metadata": {},
   "outputs": [],
   "source": [
    "import pandas as pd\n",
    "import os    \n",
    "import matplotlib.pyplot as plt"
   ]
  },
  {
   "cell_type": "code",
   "execution_count": 2,
   "metadata": {},
   "outputs": [],
   "source": [
    "DIR_PATH='data/'"
   ]
  },
  {
   "cell_type": "code",
   "execution_count": 3,
   "metadata": {},
   "outputs": [],
   "source": [
    "def read_data(sub_dir, path=DIR_PATH):\n",
    "    data = []\n",
    "    for file in os.listdir(path + sub_dir):\n",
    "        data.append(pd.read_csv(path + sub_dir + file))\n",
    "    return pd.concat(data)\n",
    "\n",
    "df_train = read_data('train/')\n",
    "df_test = read_data('test/')\n",
    "df_val = read_data('dev/')"
   ]
  },
  {
   "cell_type": "code",
   "execution_count": 4,
   "metadata": {},
   "outputs": [
    {
     "data": {
      "text/html": [
       "<div>\n",
       "<style scoped>\n",
       "    .dataframe tbody tr th:only-of-type {\n",
       "        vertical-align: middle;\n",
       "    }\n",
       "\n",
       "    .dataframe tbody tr th {\n",
       "        vertical-align: top;\n",
       "    }\n",
       "\n",
       "    .dataframe thead th {\n",
       "        text-align: right;\n",
       "    }\n",
       "</style>\n",
       "<table border=\"1\" class=\"dataframe\">\n",
       "  <thead>\n",
       "    <tr style=\"text-align: right;\">\n",
       "      <th></th>\n",
       "      <th>family_id</th>\n",
       "      <th>sequence_name</th>\n",
       "      <th>family_accession</th>\n",
       "      <th>aligned_sequence</th>\n",
       "      <th>sequence</th>\n",
       "    </tr>\n",
       "  </thead>\n",
       "  <tbody>\n",
       "    <tr>\n",
       "      <th>0</th>\n",
       "      <td>Penicillinase_R</td>\n",
       "      <td>Q81U16_BACAN/8-123</td>\n",
       "      <td>PF03965.16</td>\n",
       "      <td>ISEAELEIMKVLWLKSP.QTANEIIEE.LEDP.MDW..KPKTIRTL...</td>\n",
       "      <td>ISEAELEIMKVLWLKSPQTANEIIEELEDPMDWKPKTIRTLINRLV...</td>\n",
       "    </tr>\n",
       "    <tr>\n",
       "      <th>1</th>\n",
       "      <td>Rtt106</td>\n",
       "      <td>POB3_CANAL/362-454</td>\n",
       "      <td>PF08512.12</td>\n",
       "      <td>AGVPCSVKA...SEGYLFPL......DRCFLF.VTKPTLYIPYSE....</td>\n",
       "      <td>AGVPCSVKASEGYLFPLDRCFLFVTKPTLYIPYSEISSVVMSRTGG...</td>\n",
       "    </tr>\n",
       "    <tr>\n",
       "      <th>2</th>\n",
       "      <td>F-actin_cap_A</td>\n",
       "      <td>Q8I3I2_PLAF7/12-301</td>\n",
       "      <td>PF01267.17</td>\n",
       "      <td>IRHVLMNSPPGKLYDLVK..DINILL.G.........SSVSIQ.KI...</td>\n",
       "      <td>IRHVLMNSPPGKLYDLVKDINILLGSSVSIQKILEEVLKDYNEKNY...</td>\n",
       "    </tr>\n",
       "    <tr>\n",
       "      <th>3</th>\n",
       "      <td>HupF_HypC</td>\n",
       "      <td>O28902_ARCFU/1-65</td>\n",
       "      <td>PF01455.18</td>\n",
       "      <td>MCIAIPGR...I.ER..IDY...............P....IAIVDF...</td>\n",
       "      <td>MCIAIPGRIERIDYPIAIVDFKGLKKEVRIDLLENPQIGDYVLVHV...</td>\n",
       "    </tr>\n",
       "    <tr>\n",
       "      <th>4</th>\n",
       "      <td>DUF3794</td>\n",
       "      <td>R6BY75_9CLOT/189-271</td>\n",
       "      <td>PF12673.7</td>\n",
       "      <td>NIFHI..LWEDVDL..E.GVTFKPMG...E...........S.......</td>\n",
       "      <td>NIFHILWEDVDLEGVTFKPMGESISVQGDIHIFVLYEGEGENTPIR...</td>\n",
       "    </tr>\n",
       "    <tr>\n",
       "      <th>5</th>\n",
       "      <td>MLTR_LBD</td>\n",
       "      <td>H6NFE3_9BACL/62-229</td>\n",
       "      <td>PF17765.1</td>\n",
       "      <td>VSPILQSLLDQLE..TTPAYILDQRMNIVGWNEAFSDVYGD........</td>\n",
       "      <td>VSPILQSLLDQLETTPAYILDQRMNIVGWNEAFSDVYGDYLYKGER...</td>\n",
       "    </tr>\n",
       "    <tr>\n",
       "      <th>6</th>\n",
       "      <td>DUF4217</td>\n",
       "      <td>T1EJ05_HELRO/391-451</td>\n",
       "      <td>PF13959.6</td>\n",
       "      <td>ITRNAESLCASDVTLKQFAQRAFVSYLK............SVGMNK...</td>\n",
       "      <td>ITRNAESLCASDVTLKQFAQRAFVSYLKSVGMNKNKDIFSVKLIDY...</td>\n",
       "    </tr>\n",
       "    <tr>\n",
       "      <th>7</th>\n",
       "      <td>zf-A20</td>\n",
       "      <td>U5GUS6_POPTR/60-82</td>\n",
       "      <td>PF01754.16</td>\n",
       "      <td>KLCANS.CGFFGTATTMNLCSKCH.</td>\n",
       "      <td>KLCANSCGFFGTATTMNLCSKCH</td>\n",
       "    </tr>\n",
       "    <tr>\n",
       "      <th>8</th>\n",
       "      <td>Trigger_N</td>\n",
       "      <td>F2I568_AERUA/1-145</td>\n",
       "      <td>PF05697.13</td>\n",
       "      <td>MSVKFEETAT...N.EGVLHFTVSKEDAQKA....LKQAYNRVKG....</td>\n",
       "      <td>MSVKFEETATNEGVLHFTVSKEDAQKALKQAYNRVKGKVNIPGFRK...</td>\n",
       "    </tr>\n",
       "    <tr>\n",
       "      <th>9</th>\n",
       "      <td>YccF</td>\n",
       "      <td>R5FJ20_9BACT/70-119</td>\n",
       "      <td>PF03733.13</td>\n",
       "      <td>.LNVLWIIM.GGLWAWFMHIIFGVLLF...ITII..........GI...</td>\n",
       "      <td>LNVLWIIMGGLWAWFMHIIFGVLLFITIIGIPFGRQHFKMARLSLA...</td>\n",
       "    </tr>\n",
       "  </tbody>\n",
       "</table>\n",
       "</div>"
      ],
      "text/plain": [
       "         family_id         sequence_name family_accession  \\\n",
       "0  Penicillinase_R    Q81U16_BACAN/8-123       PF03965.16   \n",
       "1           Rtt106    POB3_CANAL/362-454       PF08512.12   \n",
       "2    F-actin_cap_A   Q8I3I2_PLAF7/12-301       PF01267.17   \n",
       "3        HupF_HypC     O28902_ARCFU/1-65       PF01455.18   \n",
       "4          DUF3794  R6BY75_9CLOT/189-271        PF12673.7   \n",
       "5         MLTR_LBD   H6NFE3_9BACL/62-229        PF17765.1   \n",
       "6          DUF4217  T1EJ05_HELRO/391-451        PF13959.6   \n",
       "7           zf-A20    U5GUS6_POPTR/60-82       PF01754.16   \n",
       "8        Trigger_N    F2I568_AERUA/1-145       PF05697.13   \n",
       "9             YccF   R5FJ20_9BACT/70-119       PF03733.13   \n",
       "\n",
       "                                    aligned_sequence  \\\n",
       "0  ISEAELEIMKVLWLKSP.QTANEIIEE.LEDP.MDW..KPKTIRTL...   \n",
       "1  AGVPCSVKA...SEGYLFPL......DRCFLF.VTKPTLYIPYSE....   \n",
       "2  IRHVLMNSPPGKLYDLVK..DINILL.G.........SSVSIQ.KI...   \n",
       "3  MCIAIPGR...I.ER..IDY...............P....IAIVDF...   \n",
       "4  NIFHI..LWEDVDL..E.GVTFKPMG...E...........S.......   \n",
       "5  VSPILQSLLDQLE..TTPAYILDQRMNIVGWNEAFSDVYGD........   \n",
       "6  ITRNAESLCASDVTLKQFAQRAFVSYLK............SVGMNK...   \n",
       "7                          KLCANS.CGFFGTATTMNLCSKCH.   \n",
       "8  MSVKFEETAT...N.EGVLHFTVSKEDAQKA....LKQAYNRVKG....   \n",
       "9  .LNVLWIIM.GGLWAWFMHIIFGVLLF...ITII..........GI...   \n",
       "\n",
       "                                            sequence  \n",
       "0  ISEAELEIMKVLWLKSPQTANEIIEELEDPMDWKPKTIRTLINRLV...  \n",
       "1  AGVPCSVKASEGYLFPLDRCFLFVTKPTLYIPYSEISSVVMSRTGG...  \n",
       "2  IRHVLMNSPPGKLYDLVKDINILLGSSVSIQKILEEVLKDYNEKNY...  \n",
       "3  MCIAIPGRIERIDYPIAIVDFKGLKKEVRIDLLENPQIGDYVLVHV...  \n",
       "4  NIFHILWEDVDLEGVTFKPMGESISVQGDIHIFVLYEGEGENTPIR...  \n",
       "5  VSPILQSLLDQLETTPAYILDQRMNIVGWNEAFSDVYGDYLYKGER...  \n",
       "6  ITRNAESLCASDVTLKQFAQRAFVSYLKSVGMNKNKDIFSVKLIDY...  \n",
       "7                            KLCANSCGFFGTATTMNLCSKCH  \n",
       "8  MSVKFEETATNEGVLHFTVSKEDAQKALKQAYNRVKGKVNIPGFRK...  \n",
       "9  LNVLWIIMGGLWAWFMHIIFGVLLFITIIGIPFGRQHFKMARLSLA...  "
      ]
     },
     "execution_count": 4,
     "metadata": {},
     "output_type": "execute_result"
    }
   ],
   "source": [
    "df_train.head(10)"
   ]
  },
  {
   "cell_type": "code",
   "execution_count": 5,
   "metadata": {},
   "outputs": [
    {
     "name": "stdout",
     "output_type": "stream",
     "text": [
      "Train: (1086741, 5)\n",
      "Test: (126171, 5)\n",
      "Validation: (126171, 5)\n"
     ]
    }
   ],
   "source": [
    "print(\"Train:\", df_train.shape)\n",
    "print(\"Test:\", df_test.shape)\n",
    "print(\"Validation:\",df_val.shape)"
   ]
  },
  {
   "cell_type": "code",
   "execution_count": 6,
   "metadata": {},
   "outputs": [
    {
     "name": "stdout",
     "output_type": "stream",
     "text": [
      "Train: 81.15561171338894\n",
      "Test: 9.42219414330553\n",
      "Validation: 9.42219414330553\n"
     ]
    }
   ],
   "source": [
    "def slpit_pourcentage(df_train, df_test, df_val):\n",
    "    total = df_train.shape[0] + df_test.shape[0] + df_val.shape[0]\n",
    "    print(\"Train:\", (df_train.shape[0]/total)*100)\n",
    "    print(\"Test:\", (df_test.shape[0]/total)*100)\n",
    "    print(\"Validation:\", (df_val.shape[0]/total)*100)\n",
    "\n",
    "slpit_pourcentage(df_train, df_test, df_val)"
   ]
  },
  {
   "cell_type": "code",
   "execution_count": 7,
   "metadata": {},
   "outputs": [
    {
     "name": "stdout",
     "output_type": "stream",
     "text": [
      "---------------------------\n",
      "family_accession 17929\n",
      "family_id 17929\n",
      "---------------------------\n",
      "family_accession 13071\n",
      "family_id 13071\n",
      "---------------------------\n",
      "family_accession 13071\n",
      "family_id 13071\n"
     ]
    }
   ],
   "source": [
    "def unique_values(df):\n",
    "    print('---------------------------')\n",
    "    print(\"family_accession\", df['family_accession'].nunique())\n",
    "    print(\"family_id\", df['family_id'].nunique())\n",
    "\n",
    "unique_values(df_train)\n",
    "unique_values(df_test)\n",
    "unique_values(df_val)"
   ]
  },
  {
   "cell_type": "code",
   "execution_count": 8,
   "metadata": {},
   "outputs": [
    {
     "name": "stdout",
     "output_type": "stream",
     "text": [
      "family_id in test not in train: 0\n",
      "family_id in val not in train: 0\n",
      "family_id in val not in test: 0\n",
      "family_accession in test not in train: 0\n",
      "family_accession in val not in train: 0\n",
      "family_accession in val not in test: 0\n"
     ]
    }
   ],
   "source": [
    "def is_family_id_test_in_train(df_train, df_test, df_val):\n",
    "    print(\"family_id in test not in train:\", len(set(df_test['family_id'].unique()) - set(df_train['family_id'].unique())))\n",
    "    print(\"family_id in val not in train:\", len(set(df_test['family_id'].unique()) - set(df_train['family_id'].unique())))\n",
    "    print(\"family_id in val not in test:\", len(set(df_val['family_id'].unique()) - set(df_test['family_id'].unique())))\n",
    "\n",
    "    print(\"family_accession in test not in train:\", len(set(df_test['family_accession'].unique()) - set(df_train['family_accession'].unique())))\n",
    "    print(\"family_accession in val not in train:\", len(set(df_test['family_accession'].unique()) - set(df_train['family_accession'].unique())))\n",
    "    print(\"family_accession in val not in test:\", len(set(df_val['family_accession'].unique()) - set(df_test['family_accession'].unique())))\n",
    "\n",
    "is_family_id_test_in_train(df_train, df_test, df_val)\n"
   ]
  },
  {
   "cell_type": "code",
   "execution_count": 9,
   "metadata": {},
   "outputs": [
    {
     "name": "stdout",
     "output_type": "stream",
     "text": [
      "All good!\n",
      "All good!\n"
     ]
    }
   ],
   "source": [
    "assert df_train.groupby('family_id')['family_accession'].nunique().max() == 1\n",
    "print(\"All good!\")\n",
    "\n",
    "assert df_train.groupby('family_accession')['family_id'].nunique().max() == 1\n",
    "print(\"All good!\")"
   ]
  },
  {
   "cell_type": "code",
   "execution_count": 10,
   "metadata": {},
   "outputs": [
    {
     "name": "stdout",
     "output_type": "stream",
     "text": [
      "Max sequence length: 2037\n",
      "Min length sequence: 4\n",
      "Mean length sequence: 155.37997094063812\n"
     ]
    }
   ],
   "source": [
    "def get_info_sequence(df):\n",
    "    print(\"Max sequence length:\", df['sequence'].apply(len).max())\n",
    "    print(\"Min length sequence:\", df['sequence'].apply(len).min())\n",
    "    print(\"Mean length sequence:\", df['sequence'].apply(len).mean())\n",
    "\n",
    "get_info_sequence(df_train)"
   ]
  },
  {
   "cell_type": "code",
   "execution_count": 11,
   "metadata": {},
   "outputs": [
    {
     "name": "stdout",
     "output_type": "stream",
     "text": [
      "Alphabet: {'H', 'D', 'T', 'I', 'C', 'B', 'N', 'G', 'F', 'E', 'L', 'O', 'A', 'S', 'M', 'P', 'V', 'R', 'K', 'Q', 'W', 'Z', 'U', 'Y', 'X'}\n"
     ]
    }
   ],
   "source": [
    "def get_alphabet(df):\n",
    "    alphabet = set()\n",
    "    for seq in df['sequence']:\n",
    "        alphabet.update(set(seq))\n",
    "    \n",
    "    return alphabet\n",
    "\n",
    "print(\"Alphabet:\",get_alphabet(df_train))"
   ]
  },
  {
   "cell_type": "code",
   "execution_count": 12,
   "metadata": {},
   "outputs": [
    {
     "data": {
      "image/png": "[encoded data removed]",
      "text/plain": [
       "<Figure size 640x480 with 1 Axes>"
      ]
     },
     "metadata": {},
     "output_type": "display_data"
    }
   ],
   "source": [
    "def occurence_alphabet(df):\n",
    "    alphabet = {}\n",
    "    for seq in df['sequence']:\n",
    "        for char in seq:\n",
    "            if char in alphabet:\n",
    "                alphabet[char] += 1\n",
    "            else:\n",
    "                alphabet[char] = 1\n",
    "    return alphabet\n",
    "\n",
    "def plot_occurence_alphabet(df):\n",
    "    alphabet = occurence_alphabet(df)\n",
    "    alphabet = {k: v for k, v in sorted(alphabet.items(), key=lambda item: item[1], reverse=True)}\n",
    "    plt.bar(alphabet.keys(), alphabet.values())\n",
    "    plt.show()\n",
    "\n",
    "plot_occurence_alphabet(df_train)"
   ]
  },
  {
   "cell_type": "code",
   "execution_count": 13,
   "metadata": {},
   "outputs": [
    {
     "name": "stdout",
     "output_type": "stream",
     "text": [
      "Alphabet: {'H', 'D', 'T', 'I', 'C', 'N', 'G', 'F', 'E', 'L', 'A', 'S', 'M', 'P', 'V', 'R', 'K', 'Q', 'W', 'Y'}\n"
     ]
    }
   ],
   "source": [
    "alphabet_drop = {'X', 'U', 'B', 'Z', 'O', 'J'}\n",
    "def drop_alphabet(df, alphabet_drop):\n",
    "    for char in alphabet_drop:\n",
    "        df = df[~df['sequence'].str.contains(char)]\n",
    "    return df\n",
    "\n",
    "df_train = drop_alphabet(df_train, alphabet_drop)\n",
    "df_test = drop_alphabet(df_test, alphabet_drop)\n",
    "df_val = drop_alphabet(df_val, alphabet_drop)\n",
    "\n",
    "print(\"Alphabet:\",get_alphabet(df_train))"
   ]
  },
  {
   "cell_type": "code",
   "execution_count": 14,
   "metadata": {},
   "outputs": [
    {
     "data": {
      "text/plain": [
       "np.float64(155.3424001075563)"
      ]
     },
     "execution_count": 14,
     "metadata": {},
     "output_type": "execute_result"
    }
   ],
   "source": [
    "df_train['sequence'].apply(len).mean()"
   ]
  }
 ],
 "metadata": {
  "kernelspec": {
   "display_name": "venv_global",
   "language": "python",
   "name": "env_global"
  },
  "language_info": {
   "codemirror_mode": {
    "name": "ipython",
    "version": 3
   },
   "file_extension": ".py",
   "mimetype": "text/x-python",
   "name": "python",
   "nbconvert_exporter": "python",
   "pygments_lexer": "ipython3",
   "version": "3.11.11"
  }
 },
 "nbformat": 4,
 "nbformat_minor": 2
}
