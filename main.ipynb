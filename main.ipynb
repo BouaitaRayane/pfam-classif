{
 "cells": [
  {
   "cell_type": "code",
   "execution_count": 2,
   "metadata": {},
   "outputs": [],
   "source": [
    "import pandas as pd\n",
    "import os "
   ]
  },
  {
   "cell_type": "code",
   "execution_count": 3,
   "metadata": {},
   "outputs": [],
   "source": [
    "DIR_PATH='data/'"
   ]
  },
  {
   "cell_type": "code",
   "execution_count": 9,
   "metadata": {},
   "outputs": [],
   "source": [
    "def read_data(sub_dir, path=DIR_PATH):\n",
    "    data = []\n",
    "    for file in os.listdir(path + sub_dir):\n",
    "        data.append(pd.read_csv(path + sub_dir + file))\n",
    "    return pd.concat(data)\n",
    "\n",
    "df_train = read_data('train/')\n",
    "df_test = read_data('test/')\n",
    "df_val = read_data('dev/')"
   ]
  },
  {
   "cell_type": "code",
   "execution_count": 19,
   "metadata": {},
   "outputs": [
    {
     "name": "stdout",
     "output_type": "stream",
     "text": [
      "Train: (1086741, 5)\n",
      "Test: (126171, 5)\n",
      "Validation: (126171, 5)\n"
     ]
    }
   ],
   "source": [
    "print(\"Train:\", df_train.shape)\n",
    "print(\"Test:\", df_test.shape)\n",
    "print(\"Validation:\",df_val.shape)"
   ]
  },
  {
   "cell_type": "code",
   "execution_count": 24,
   "metadata": {},
   "outputs": [
    {
     "name": "stdout",
     "output_type": "stream",
     "text": [
      "family_id 17929\n",
      "family_id 13071\n",
      "family_id 13071\n"
     ]
    }
   ],
   "source": [
    "def unique_values(df):\n",
    "    print(\"family_id\", df['family_id'].nunique())\n",
    "\n",
    "unique_values(df_train)\n",
    "unique_values(df_test)\n",
    "unique_values(df_val)"
   ]
  },
  {
   "cell_type": "code",
   "execution_count": 28,
   "metadata": {},
   "outputs": [
    {
     "name": "stdout",
     "output_type": "stream",
     "text": [
      "family_id in test not in train: 0\n",
      "family_id in val not in train: 0\n",
      "family_id in val not in test: 0\n"
     ]
    }
   ],
   "source": [
    "def is_family_id_test_in_train(df_train, df_test, df_val):\n",
    "    print(\"family_id in test not in train:\", len(set(df_test['family_id'].unique()) - set(df_train['family_id'].unique())))\n",
    "    print(\"family_id in val not in train:\", len(set(df_test['family_id'].unique()) - set(df_train['family_id'].unique())))\n",
    "    print(\"family_id in val not in test:\", len(set(df_val['family_id'].unique()) - set(df_test['family_id'].unique())))\n",
    "\n",
    "is_family_id_test_in_train(df_train, df_test, df_val)"
   ]
  },
  {
   "cell_type": "code",
   "execution_count": null,
   "metadata": {},
   "outputs": [
    {
     "name": "stdout",
     "output_type": "stream",
     "text": [
      "Train: 81.15561171338894\n",
      "Test: 9.42219414330553\n",
      "Validation: 9.42219414330553\n"
     ]
    }
   ],
   "source": [
    "def slpit_pourcentage(df_train, df_test, df_val):\n",
    "    total = df_train.shape[0] + df_test.shape[0] + df_val.shape[0]\n",
    "    print(\"Train:\", (df_train.shape[0]/total)*100)\n",
    "    print(\"Test:\", (df_test.shape[0]/total)*100)\n",
    "    print(\"Validation:\", (df_val.shape[0]/total)*100)\n",
    "\n",
    "slpit_pourcentage(df_train, df_test, df_val)"
   ]
  },
  {
   "cell_type": "code",
   "execution_count": null,
   "metadata": {},
   "outputs": [],
   "source": []
  }
 ],
 "metadata": {
  "kernelspec": {
   "display_name": "venv_global",
   "language": "python",
   "name": "env_global"
  },
  "language_info": {
   "codemirror_mode": {
    "name": "ipython",
    "version": 3
   },
   "file_extension": ".py",
   "mimetype": "text/x-python",
   "name": "python",
   "nbconvert_exporter": "python",
   "pygments_lexer": "ipython3",
   "version": "3.11.11"
  }
 },
 "nbformat": 4,
 "nbformat_minor": 2
}
